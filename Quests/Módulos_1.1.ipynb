{
 "cells": [
  {
   "cell_type": "markdown",
   "metadata": {},
   "source": [
    "# **<span style=\"font-family: 'Palatino Linotype', serif;\">Iterações… iterações em todos os lugares</span>**\n",
    "\n",
    "*<span style=\"font-family: 'Angilla Tattoo'\">Onda há fumaça, há fogo... E o fogo, é um fenômeno cíclico, uma constante transformação. Assim como o fogo se renova em ciclos perpétuos, as iterações nos permitem explorar infinitas possibilidades, desvendando padrões ocultos e prevendo o **futuro**. <br> <br> Nossos algoritmos são oráculos, nossos dados são ossos ancestrais. <br> Sepulcro de Delfos </span>*"
   ]
  },
  {
   "cell_type": "markdown",
   "metadata": {},
   "source": [
    "---"
   ]
  },
  {
   "cell_type": "markdown",
   "metadata": {},
   "source": [
    "**Módulos 1 - Itertools**\n",
    "==========================================================\n",
    "\n",
    "**Autores:** Sepulcro de Delfos\n",
    "* Ana Luz \n",
    "* Caio Ruas\n",
    "* Caio Matheus\n",
    "* Giovana Martins"
   ]
  },
  {
   "cell_type": "markdown",
   "metadata": {},
   "source": [
    "## Introdução\n",
    "\n",
    "Em Python, iterações são o coração do processamento de dados. Elas nos permitem percorrer sequências de elementos, como listas, tuplas, strings e até mesmo objetos mais complexos, de forma estruturada e controlada. A capacidade de iterar eficientemente é fundamental para qualquer programa Python, seja ele simples ou complexo.\n",
    "\n",
    "Aprimorar a forma com que lidamos com iterações é incrível, pois pode nos ajudar na eficiência, legibilidade, flexibilidade e elegância do nosso código. E é aí que entra o módulo `itertools`.\n",
    "\n",
    "Neste notebook, iremos explorar a **biblioteca** `itertools` do Python. Este módulo é uma coleção de ferramentas para **lidar com iterações**, de forma a fornecer várias funções que operam em iteradores para produzir **iteradores mais complexos.**\n",
    "\n",
    "Para estudá-lo, veremos 5 funções principais do módulo `itertools`:\n",
    "\n",
    "1. `product()`\n",
    "2. `permutations()`\n",
    "3. `combinations()`\n",
    "4. `combinations_with_replacement()`\n",
    "5. `chain()`"
   ]
  },
  {
   "cell_type": "markdown",
   "metadata": {},
   "source": [
    "## Preparando o Ambiente\n",
    "\n",
    "Primeiramente, vamos importar as bibliotecas necessárias para o desenvolvimento deste notebook."
   ]
  },
  {
   "cell_type": "code",
   "execution_count": 1,
   "metadata": {},
   "outputs": [],
   "source": [
    "import itertools"
   ]
  },
  {
   "cell_type": "markdown",
   "metadata": {},
   "source": [
    "## 1. Função `product`: Produto Cartesiano\n",
    "\n",
    "A função `product` gera o **produto** cartesiano de iteráveis, ou seja, todas as possíveis combinações de elementos, onde cada combinação contém um elemento de cada iterável."
   ]
  },
  {
   "cell_type": "code",
   "execution_count": 2,
   "metadata": {},
   "outputs": [
    {
     "name": "stdout",
     "output_type": "stream",
     "text": [
      "[('A', 1), ('A', 2), ('B', 1), ('B', 2)]\n"
     ]
    }
   ],
   "source": [
    "letras = ['A', 'B']\n",
    "numeros = [1, 2]\n",
    "\n",
    "produto_cartesiano = itertools.product(letras, numeros)\n",
    "\n",
    "# Convertendo o iterador em uma lista para visualizar o resultado\n",
    "print(list(produto_cartesiano))"
   ]
  },
  {
   "cell_type": "markdown",
   "metadata": {},
   "source": [
    "**Exemplos:** \n",
    "\n",
    "- Em um restaurante, você tem 3 opções de entrada, 4 opções de prato principal e 2 opções de sobremesa. A função product pode ser usada para gerar todas as possíveis combinações de refeições completas.\n",
    "\n",
    "- Uma empresa de roupas oferece 3 tipos de calças (jeans, sarja, moletom), 5 cores de camiseta (preto, branco, azul, vermelho, verde) e 2 tipos de calçado (tênis, bota). A função product pode ser usada para gerar todas as possíveis combinações de looks que um cliente pode montar."
   ]
  },
  {
   "cell_type": "markdown",
   "metadata": {},
   "source": [
    "## 2. Função `permutations`: Permutações\n",
    "\n",
    "A função `permutations` gera todas as possíveis **permutações (arranjos ordenados)** de elementos de um iterável."
   ]
  },
  {
   "cell_type": "code",
   "execution_count": 3,
   "metadata": {},
   "outputs": [
    {
     "name": "stdout",
     "output_type": "stream",
     "text": [
      "('vermelho', 'verde', 'azul')\n",
      "('vermelho', 'azul', 'verde')\n",
      "('verde', 'vermelho', 'azul')\n",
      "('verde', 'azul', 'vermelho')\n",
      "('azul', 'vermelho', 'verde')\n",
      "('azul', 'verde', 'vermelho')\n"
     ]
    }
   ],
   "source": [
    "cores = ['vermelho', 'verde', 'azul']\n",
    "\n",
    "permutacoes = itertools.permutations(cores)\n",
    "\n",
    "# Visualizando as permutações\n",
    "for permutacao in permutacoes:\n",
    "    print(permutacao)"
   ]
  },
  {
   "cell_type": "markdown",
   "metadata": {},
   "source": [
    "**Exemplos:** \n",
    "\n",
    "- Em uma corrida com 5 participantes, a função permutations pode ser usada para gerar todas as possíveis ordens de chegada.\n",
    "\n",
    "- Um gerente de projetos precisa alocar 4 tarefas (A, B, C, D) para 4 desenvolvedores. A função permutations pode ser usada para gerar todas as possíveis alocações de tarefas, garantindo que cada desenvolvedor receba uma tarefa diferente."
   ]
  },
  {
   "cell_type": "markdown",
   "metadata": {},
   "source": [
    "## 3. Função `combinations`: Combinações\n",
    "\n",
    "A função `combinations` gera todas as possíveis **combinações (subconjuntos não ordenados)** de um determinado tamanho a partir de um iterável."
   ]
  },
  {
   "cell_type": "code",
   "execution_count": 4,
   "metadata": {},
   "outputs": [
    {
     "name": "stdout",
     "output_type": "stream",
     "text": [
      "('maçã', 'banana')\n",
      "('maçã', 'laranja')\n",
      "('banana', 'laranja')\n"
     ]
    }
   ],
   "source": [
    "frutas = ['maçã', 'banana', 'laranja']\n",
    "\n",
    "combinacoes_2 = itertools.combinations(frutas, 2)  # Combinações de tamanho 2\n",
    "\n",
    "# Visualizando as combinações\n",
    "for combinacao in combinacoes_2:\n",
    "    print(combinacao)"
   ]
  },
  {
   "cell_type": "markdown",
   "metadata": {},
   "source": [
    "**Exemplos:** \n",
    "\n",
    "- Em um jogo de cartas, você precisa escolher 5 cartas de um baralho de 52 cartas. A função combinations pode ser usada para gerar todas as possíveis mãos de 5 cartas.\n",
    "\n",
    "- Um grupo de 10 amigos quer formar um time de futebol de 5 jogadores. A função combinations pode ser usada para gerar todas as possíveis formações do time."
   ]
  },
  {
   "cell_type": "markdown",
   "metadata": {},
   "source": [
    "## 4. Função `combinations_with_replacement`: Combinações com Repetição\n",
    "\n",
    "A função `combinations_with_replacement` é semelhante a combinations, mas permite que elementos se **repitam nas combinações**."
   ]
  },
  {
   "cell_type": "code",
   "execution_count": 8,
   "metadata": {},
   "outputs": [
    {
     "name": "stdout",
     "output_type": "stream",
     "text": [
      "('Probabilidade e estatística', 'Probabilidade e estatística', 'Probabilidade e estatística')\n",
      "('Probabilidade e estatística', 'Probabilidade e estatística', 'Aprendizado de máquina')\n",
      "('Probabilidade e estatística', 'Probabilidade e estatística', 'Álgebra Linear')\n",
      "('Probabilidade e estatística', 'Probabilidade e estatística', 'Eletromag')\n",
      "('Probabilidade e estatística', 'Aprendizado de máquina', 'Aprendizado de máquina')\n",
      "('Probabilidade e estatística', 'Aprendizado de máquina', 'Álgebra Linear')\n",
      "('Probabilidade e estatística', 'Aprendizado de máquina', 'Eletromag')\n",
      "('Probabilidade e estatística', 'Álgebra Linear', 'Álgebra Linear')\n",
      "('Probabilidade e estatística', 'Álgebra Linear', 'Eletromag')\n",
      "('Probabilidade e estatística', 'Eletromag', 'Eletromag')\n",
      "('Aprendizado de máquina', 'Aprendizado de máquina', 'Aprendizado de máquina')\n",
      "('Aprendizado de máquina', 'Aprendizado de máquina', 'Álgebra Linear')\n",
      "('Aprendizado de máquina', 'Aprendizado de máquina', 'Eletromag')\n",
      "('Aprendizado de máquina', 'Álgebra Linear', 'Álgebra Linear')\n",
      "('Aprendizado de máquina', 'Álgebra Linear', 'Eletromag')\n",
      "('Aprendizado de máquina', 'Eletromag', 'Eletromag')\n",
      "('Álgebra Linear', 'Álgebra Linear', 'Álgebra Linear')\n",
      "('Álgebra Linear', 'Álgebra Linear', 'Eletromag')\n",
      "('Álgebra Linear', 'Eletromag', 'Eletromag')\n",
      "('Eletromag', 'Eletromag', 'Eletromag')\n"
     ]
    }
   ],
   "source": [
    "aulas = [\"Probabilidade e estatística\", \"Aprendizado de máquina\", \"Álgebra Linear\", \"Eletromag\"]\n",
    "\n",
    "combinacoes_3 = itertools.combinations_with_replacement(aulas, 3)  # Combinações de tamanho 3 com reposição\n",
    "\n",
    "# Visualizando as combinações\n",
    "for combinacao in combinacoes_3:\n",
    "    print(combinacao)"
   ]
  },
  {
   "cell_type": "markdown",
   "metadata": {},
   "source": [
    "**Exemplos:** \n",
    "\n",
    "- Em uma sorveteria, você pode escolher 3 bolas de sorvete de um total de 5 sabores, podendo repetir sabores. A função combinations_with_replacement pode ser usada para gerar todas as possíveis combinações de sabores.\n",
    "\n",
    "- Uma lanchonete oferece 4 ingredientes para montar um sanduíche, e o cliente pode escolher até 3 ingredientes, podendo repetir ingredientes. A função combinations_with_replacement pode ser usada para gerar todas as possíveis combinações de ingredientes para o sanduíche."
   ]
  },
  {
   "cell_type": "markdown",
   "metadata": {},
   "source": [
    "## 5. Função `chain`: Encadeamento de Iteráveis\n",
    "\n",
    "A função `chain` **encadeia vários iteráveis**, permitindo que você os percorra como se fossem um único iterável."
   ]
  },
  {
   "cell_type": "code",
   "execution_count": 5,
   "metadata": {},
   "outputs": [
    {
     "name": "stdout",
     "output_type": "stream",
     "text": [
      "Alice\n",
      "Bob\n",
      "Carlos\n",
      "Diana\n",
      "Eva\n",
      "Fábio\n",
      "Gustavo\n",
      "Helena\n",
      "Ícaro\n"
     ]
    }
   ],
   "source": [
    "turma_a = ['Alice', 'Bob', 'Carlos']\n",
    "turma_b = ['Diana', 'Eva', 'Fábio']\n",
    "turma_c = ['Gustavo', 'Helena', 'Ícaro']\n",
    "\n",
    "todos_os_alunos = itertools.chain(turma_a, turma_b, turma_c)\n",
    "\n",
    "# Iterando sobre todos os alunos\n",
    "for aluno in todos_os_alunos:\n",
    "    print(aluno)"
   ]
  },
  {
   "cell_type": "markdown",
   "metadata": {},
   "source": [
    "**Exemplos:** \n",
    "\n",
    "- Você tem três listas de alunos de diferentes turmas e precisa iterar sobre todos os alunos como se estivessem em uma única lista.\n",
    "\n",
    "- Uma empresa tem dados de clientes armazenados em diferentes bancos de dados (MySQL, PostgreSQL, MongoDB). A função chain pode ser usada para combinar os resultados de consultas a esses bancos de dados em um único iterador, facilitando o processamento dos dados de forma unificada."
   ]
  },
  {
   "cell_type": "markdown",
   "metadata": {},
   "source": [
    "## Conclusão\n",
    "\n",
    "O módulo itertools é muito útil para lidar com iteradores e problemas de análise combinatória em Python. As funções product, permutations, combinations, combinations_with_replacement e chain são apenas algumas das muitas funções úteis que ele oferece. Ao dominar essas funções, podemos resolver uma ampla variedade de problemas de forma elegante e eficiente."
   ]
  },
  {
   "cell_type": "markdown",
   "metadata": {},
   "source": [
    "## Referências\n",
    "\n",
    "1. **itertools — Functions creating iterators for efficient looping — Python 3.9.1 documentation.** Disponível em: <https://docs.python.org/3/library/itertools.html>. "
   ]
  }
 ],
 "metadata": {
  "kernelspec": {
   "display_name": "Python 3",
   "language": "python",
   "name": "python3"
  },
  "language_info": {
   "codemirror_mode": {
    "name": "ipython",
    "version": 3
   },
   "file_extension": ".py",
   "mimetype": "text/x-python",
   "name": "python",
   "nbconvert_exporter": "python",
   "pygments_lexer": "ipython3",
   "version": "3.11.6"
  }
 },
 "nbformat": 4,
 "nbformat_minor": 2
}
