{
  "cells": [
    {
      "cell_type": "code",
      "source": [
        "import seaborn as sns"
      ],
      "outputs": [],
      "execution_count": 1,
      "metadata": {}
    },
    {
      "cell_type": "code",
      "source": [
        "df = sns.load_dataset('titanic')\n",
        "df.columns\n"
      ],
      "outputs": [
        {
          "output_type": "execute_result",
          "execution_count": 2,
          "data": {
            "text/plain": "Index(['survived', 'pclass', 'sex', 'age', 'sibsp', 'parch', 'fare',\n       'embarked', 'class', 'who', 'adult_male', 'deck', 'embark_town',\n       'alive', 'alone'],\n      dtype='object')"
          },
          "metadata": {}
        }
      ],
      "execution_count": 2,
      "metadata": {}
    },
    {
      "cell_type": "code",
      "source": [
        "idade = df['age']\n",
        "familiares = df['sibsp']\n",
        "tarifa = df['fare']\n",
        "print(idade.isnull().sum())\n",
        "print(familiares.isnull().sum())\n",
        "print(tarifa.isnull().sum())"
      ],
      "outputs": [
        {
          "output_type": "stream",
          "name": "stdout",
          "text": "177\n0\n0\n"
        }
      ],
      "execution_count": 3,
      "metadata": {}
    },
    {
      "cell_type": "code",
      "source": [
        "idade_limpa = idade.dropna()\n",
        "print(idade_limpa.isnull().sum())"
      ],
      "outputs": [
        {
          "output_type": "stream",
          "name": "stdout",
          "text": "0\n"
        }
      ],
      "execution_count": 4,
      "metadata": {}
    },
    {
      "cell_type": "code",
      "source": [
        "print(familiares.shape)\n",
        "print(tarifa.shape)\n",
        "print(idade_limpa.shape)"
      ],
      "outputs": [
        {
          "output_type": "stream",
          "name": "stdout",
          "text": "(891,)\n(891,)\n(714,)\n"
        }
      ],
      "execution_count": 5,
      "metadata": {}
    },
    {
      "cell_type": "code",
      "source": [
        "f = familiares.values.reshape(-1, 1)\n",
        "t = tarifa.values.reshape(-1, 1)\n",
        "i = idade_limpa.values.reshape(-1, 1)"
      ],
      "outputs": [],
      "execution_count": 6,
      "metadata": {}
    },
    {
      "cell_type": "code",
      "source": [
        "from sklearn.preprocessing import MinMaxScaler\n",
        "from sklearn.preprocessing import MaxAbsScaler\n",
        "from sklearn.preprocessing import StandardScaler\n",
        "\n",
        "normalizador_minmax = MinMaxScaler()\n",
        "normalizador_maxabs = MaxAbsScaler()\n",
        "normalizador_standard = StandardScaler()\n",
        "\n",
        "normalizador_minmax.fit(f)\n",
        "normalizador_maxabs.fit(f)\n",
        "normalizador_standard.fit(f)\n",
        "\n",
        "familiares_normalizados_minmax = normalizador_minmax.transform(f)\n",
        "familiares_normalizados_maxabs = normalizador_maxabs.transform(f)\n",
        "familiares_normalizados_standard = normalizador_standard.transform(f)\n",
        "\n",
        "# Ver resultados\n",
        "print(\"Dados originais\")\n",
        "print(f[0:5])\n",
        "print()\n",
        "\n",
        "print(\"Dados normalizados\")\n",
        "print(\"Dados normalizados minmax:\")\n",
        "print(familiares_normalizados_minmax[0:5])\n",
        "print()\n",
        "print(\"Dados normalizados maxabs:\")\n",
        "print(familiares_normalizados_maxabs[0:5])\n",
        "print()\n",
        "print(\"Dados normalizados standard:\")\n",
        "print(familiares_normalizados_standard[0:5])\n",
        "print()\n",
        "\n",
        "if familiares_normalizados_minmax.all() == familiares_normalizados_maxabs.all():\n",
        "    print(\"Os dados normalizados com MinMaxScaler e MaxAbsScaler são iguais.\")\n",
        "\n",
        "else:\n",
        "    print(\"Os dados normalizados com MinMaxScaler e MaxAbsScaler são diferentes.\")"
      ],
      "outputs": [
        {
          "output_type": "stream",
          "name": "stdout",
          "text": "Dados originais\n[[1]\n [1]\n [0]\n [1]\n [0]]\n\nDados normalizados\nDados normalizados minmax:\n[[0.125]\n [0.125]\n [0.   ]\n [0.125]\n [0.   ]]\n\nDados normalizados maxabs:\n[[0.125]\n [0.125]\n [0.   ]\n [0.125]\n [0.   ]]\n\nDados normalizados standard:\n[[ 0.43279337]\n [ 0.43279337]\n [-0.4745452 ]\n [ 0.43279337]\n [-0.4745452 ]]\n\nOs dados normalizados com MinMaxScaler e MaxAbsScaler são iguais.\n"
        }
      ],
      "execution_count": 7,
      "metadata": {}
    },
    {
      "cell_type": "code",
      "source": [
        "normalizador_minmax = MinMaxScaler()\n",
        "normalizador_maxabs = MaxAbsScaler()\n",
        "normalizador_standard = StandardScaler()\n",
        "\n",
        "normalizador_minmax.fit(t)\n",
        "normalizador_maxabs.fit(t)\n",
        "normalizador_standard.fit(t)\n",
        "\n",
        "tarifas_normalizados_minmax = normalizador_minmax.transform(t)\n",
        "tarifas_normalizados_maxabs = normalizador_maxabs.transform(t)\n",
        "tarifas_normalizados_standard = normalizador_standard.transform(t)\n",
        "\n",
        "# Ver resultados\n",
        "print(\"Dados originais\")\n",
        "print(t[0:1])\n",
        "print()\n",
        "\n",
        "print(\"Dados normalizados\")\n",
        "print(\"Dados normalizados minmax:\")\n",
        "print(tarifas_normalizados_minmax[0:10])\n",
        "print()\n",
        "print(\"Dados normalizados maxabs:\")\n",
        "print(tarifas_normalizados_maxabs[0:10])\n",
        "print()\n",
        "print(\"Dados normalizados standard:\")\n",
        "print(tarifas_normalizados_standard[0:5])\n",
        "print()\n",
        "\n",
        "if tarifas_normalizados_minmax.all() == tarifas_normalizados_maxabs.all():\n",
        "    print(\"Os dados normalizados com MinMaxScaler e MaxAbsScaler são iguais.\")\n",
        "\n",
        "else:\n",
        "    print(\"Os dados normalizados com MinMaxScaler e MaxAbsScaler são diferentes.\")"
      ],
      "outputs": [
        {
          "output_type": "stream",
          "name": "stdout",
          "text": "Dados originais\n[[7.25]]\n\nDados normalizados\nDados normalizados minmax:\n[[0.01415106]\n [0.13913574]\n [0.01546857]\n [0.1036443 ]\n [0.01571255]\n [0.0165095 ]\n [0.10122886]\n [0.04113566]\n [0.02173075]\n [0.05869429]]\n\nDados normalizados maxabs:\n[[0.01415106]\n [0.13913574]\n [0.01546857]\n [0.1036443 ]\n [0.01571255]\n [0.0165095 ]\n [0.10122886]\n [0.04113566]\n [0.02173075]\n [0.05869429]]\n\nDados normalizados standard:\n[[-0.50244517]\n [ 0.78684529]\n [-0.48885426]\n [ 0.42073024]\n [-0.48633742]]\n\nOs dados normalizados com MinMaxScaler e MaxAbsScaler são iguais.\n"
        }
      ],
      "execution_count": 8,
      "metadata": {}
    },
    {
      "cell_type": "code",
      "source": [
        "normalizador_minmax = MinMaxScaler()\n",
        "normalizador_maxabs = MaxAbsScaler()\n",
        "normalizador_standard = StandardScaler()\n",
        "\n",
        "normalizador_minmax.fit(i)\n",
        "normalizador_maxabs.fit(i)\n",
        "normalizador_standard.fit(i)\n",
        "\n",
        "idade_normalizados_minmax = normalizador_minmax.transform(i)\n",
        "idade_normalizados_maxabs = normalizador_maxabs.transform(i)\n",
        "idade_normalizados_standard = normalizador_standard.transform(i)\n",
        "\n",
        "# Ver resultados\n",
        "print(\"Dados originais\")\n",
        "print(i[0:5])\n",
        "print()\n",
        "\n",
        "print(\"Dados normalizados\")\n",
        "print(\"Dados normalizados minmax:\")\n",
        "print(idade_normalizados_minmax[0:5])\n",
        "print()\n",
        "print(\"Dados normalizados maxabs:\")\n",
        "print(idade_normalizados_maxabs[0:5])\n",
        "print()\n",
        "print(\"Dados normalizados standard:\")\n",
        "print(idade_normalizados_standard[0:5])\n",
        "print()\n",
        "\n",
        "if idade_normalizados_minmax.all() == idade_normalizados_maxabs.all():\n",
        "    print(\"Os dados normalizados com MinMaxScaler e MaxAbsScaler são iguais.\")\n",
        "\n",
        "else:\n",
        "    print(\"Os dados normalizados com MinMaxScaler e MaxAbsScaler são diferentes.\")"
      ],
      "outputs": [
        {
          "output_type": "stream",
          "name": "stdout",
          "text": "Dados originais\n[[22.]\n [38.]\n [26.]\n [35.]\n [35.]]\n\nDados normalizados\nDados normalizados minmax:\n[[0.27117366]\n [0.4722292 ]\n [0.32143755]\n [0.43453129]\n [0.43453129]]\n\nDados normalizados maxabs:\n[[0.275 ]\n [0.475 ]\n [0.325 ]\n [0.4375]\n [0.4375]]\n\nDados normalizados standard:\n[[-0.53037664]\n [ 0.57183099]\n [-0.25482473]\n [ 0.36516706]\n [ 0.36516706]]\n\nOs dados normalizados com MinMaxScaler e MaxAbsScaler são diferentes.\n"
        }
      ],
      "execution_count": 9,
      "metadata": {}
    },
    {
      "cell_type": "markdown",
      "source": [
        "O que observamos de interessante é que duas de nossas normalizações deram resultados iguais para 2 conjuntos de dados (Tarifa e número de familiares a bordo): A normalização por máximo absoluto e a normalização por mínimo e máximo. Isso acontece porque o valor mínimo nesses conjutos é 0, pois não tem como existir um valor negativo para esse conjunto de dados. \n",
        "\n",
        "$$ n_i = \\frac{x_i}{\\max(|x|)} $$\n",
        "\n",
        "$$ m_i = \\frac{x_i - \\min(x_i)}{\\max(x) - \\min(x)} $$\n",
        "\n",
        "Se analizarmos a fórmula acima, quando o valor mínimo é 0 as duas se tornam iguais, dessa forma os dados normalizados ficam os mesmos.\n",
        "\n",
        "No caso da idadde, não existe um valor mínimo de 0, então a normalização por máximo absoluto e a normalização por mínimo e máximo deram resultados diferentes."
      ],
      "metadata": {}
    }
  ],
  "metadata": {
    "kernelspec": {
      "name": "python",
      "language": "python",
      "display_name": "Pyolite (preview)"
    },
    "language_info": {
      "codemirror_mode": {
        "name": "python",
        "version": 3
      },
      "file_extension": ".py",
      "mimetype": "text/x-python",
      "name": "python",
      "nbconvert_exporter": "python",
      "pygments_lexer": "ipython3",
      "version": "3.8"
    },
    "kernel_info": {
      "name": "python"
    },
    "nteract": {
      "version": "nteract-front-end@1.0.0"
    }
  },
  "nbformat": 4,
  "nbformat_minor": 2
}
