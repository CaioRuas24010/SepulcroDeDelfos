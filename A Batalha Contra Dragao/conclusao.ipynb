{
 "cells": [
  {
   "cell_type": "markdown",
   "metadata": {},
   "source": [
    "# **<span style=\"font-family: 'Palatino Linotype', serif;\">🐉 A batalha final! </span>**\n",
    "\n",
    "*<span style=\"font-family: 'Angilla Tattoo'\"> <span style=\"font-family: 'Angilla Tattoo'\"> Nos dados forjamos nossas espadas, no código afiamos nossas lâminas – e hoje, enfrentamos o dragão final da complexidade. O conhecimento é nossa maldição e a máquina nossa arma. </span>*\n",
    "<div align=\"center\">\n",
    "    <img src=\"assets\\mapas\\4.png\" alt=\"Mapa: A Batalha Final\">\n",
    "    <figcaption>A grande fera encontra nossos heróis (ou o oposto?)</figcaption>\n",
    "</div>\n"
   ]
  },
  {
   "cell_type": "markdown",
   "metadata": {},
   "source": [
    "---"
   ]
  },
  {
   "cell_type": "markdown",
   "metadata": {},
   "source": [
    "**Trabalho Final: 🌳x🏘️Conclusão: Comparando modelos**\n",
    "==========================================================\n",
    "\n",
    "\n",
    "\n",
    "**Autores:** Sepulcro de Delfos\n",
    "\n",
    "* Ana Luz\n",
    "\n",
    "* Caio Ruas\n",
    "\n",
    "* Caio Matheus\n",
    "\n",
    "* Giovana Martins"
   ]
  },
  {
   "cell_type": "markdown",
   "metadata": {},
   "source": [
    "## 🛡️ **Analisando modelos**"
   ]
  },
  {
   "cell_type": "markdown",
   "metadata": {},
   "source": [
    "Em nosso trabalho, utilizamos os modelos de previsão **k-NN vizinhos** e **árvore de decisão** para realizar a predição dos dataset de propriedades dos materiais.\n",
    "\n",
    "Primeiramente, vamos entender as diferenças teóricas dos modelos:\n",
    "\n",
    "**k-NN vizinhos:** Esse modelo realiza a predição do target com base na análise dos vizinhos **k** mais próximos do novo dado observado. O modelo compara os valores de atributo apresentados para a previsão do target com os valores mais próximos existentes no dataset, e a partir desse ponto, realizar a predição. A predição pode ser determinada tanto pela média dos vizinhos (regrssão) quanto pelo valor da maioria (classificação).\n",
    "\n",
    "**Árvore de decisão:** Esse modelo irá realizar \"perguntas\" para classificar os novos dados apresentados. Para isso, serão formados **nós** dentro do modelo; cada nó irá realizar uma pergunta sobre as características do dado. Com base na resposta, o dado é encaminhado para outro nó até chegar a uma folha, onde a classificação final é feita. Nesse modelo, definimos uma quantidade máxima de nós e uma qunatidade mínima de dados por nó, o que evita que o modelo sobre *overfitting* ou *underfitting*.\n"
   ]
  },
  {
   "cell_type": "markdown",
   "metadata": {},
   "source": [
    "## **🗡️ Vantagens e desvantagens:**\n"
   ]
  },
  {
   "cell_type": "markdown",
   "metadata": {},
   "source": [
    "**k-NN vizinhos:**\n",
    "\n",
    "✅É um modelo simples, que não precisa passar por fase de treinamento e que se adapta bem tanto a regressão quanto a classificação. \n",
    "\n",
    "❌Precisa de dados normalizados e bem ajustadados, pois considera todos os vizinhos, inclusive aqueles que não são representativos. \n",
    "\n",
    "\n",
    "**Árvore de decisão**\n",
    "\n",
    "✅ Se trata de um modelo bastante visual, em que interpretar e enxergar as relações não lineare de variáves se torna mais fácil. Geralmente não exige uma preparação dos dados como normalizações.\n",
    "\n",
    "❌ Estamos falando de um modelo menos preciso, que é marcado por instabilidades, já que algumas poucas mudanças nos dados já causaria variações significativas do modelo. Além disso, não é incomum ter *overfitting*, pois perde sua capacidade de generalização a medida que se ajusta muito aos dados de modelagem.\n"
   ]
  },
  {
   "cell_type": "markdown",
   "metadata": {},
   "source": [
    "## **⚔️Comparando nossas missões**\n"
   ]
  },
  {
   "cell_type": "markdown",
   "metadata": {},
   "source": [
    "Depois de analisar e entender as características desses dois modelos podemos comparar os valores das métricas de desempenho dessas duas formas de predição. Então iremos apresentar e comentar alguns valores que foram calculádos nos notebooks ateriores, por isso caso tenha dúvidas sobre algum valor sugerimos que retorne aos notebooks anteriores.\n",
    "\n",
    "\n",
    "| Modelo   | MSE | RMSE     | Média (dados previstos)|\n",
    "| ---   | ---   | ---      |  ---    |\n",
    "| K-nn Vizinhos   | 3.337   | 1.826   | 1.367 |\n",
    "| Árvore de decisão | 1.098   | 1.234   | 2.302 |\n",
    "\n",
    "Média do Dataframe: 2.290\n",
    "\n",
    "Olhando  para a tabela acima observamos uma coisa curiosa, os valores que indicam uma melhor precisão estão mais baixos (melhores) na árvore de decisão. Então, estão indo na contramão ao que seria intuitivo de pensar, o modelo que fez as melhores previsões foi o segundo. O que mostra que definir um melhor modelo é uma tarefa que envolve contexto, finalidade e formato dos dados.\n",
    "\n",
    "Mas podemos pensar mais além dessa comparação numérica, visitando os dois histogramas, percebemos uma elevada distribuição dos erros, que sugere a efetividade do modelo k-NN, em geral, de realizar boas estimativas a partir dos atributos escolhido. Já a árvore de decisão apresenta a base alongada que define um pouco de imprecisão. Portanto, esses resultados podem ter chegado nesse formato devido a vários fatores como a condição de que a árvore de decisão é mais flexível a interações não lineares de variáveis, enquanto o K-NN é muito mais sensível a outliers ou a dados desbalanceados, já que esse previsor não olha os dados como todo, que no nosso caso são muitos, apenas os mais próximos. \n",
    "\n",
    "<div align=\"center\">\n",
    "    <img src=\"assets\\hist_knn.png\" alt=\"Mapa: A Batalha Final\">\n",
    "    <figcaption>Histograma dos erros do modelo KNN presente no caderno 2</figcaption>\n",
    "</div>\n",
    "\n",
    "<div align=\"center\">\n",
    "    <img src=\"assets\\hist_arv.png\" alt=\"Mapa: A Batalha Final\">\n",
    "    <figcaption>Histograma dos erros do modelo árvore de decisões presente no caderno 3</figcaption>\n",
    "</div>\n",
    "\n",
    "Com isso, percebemos que se trata de uma questão de qual dos dois melhor se encaixa ao nosso problema. Escolhemos levar em consideração que a árvore de decisão apresentou melhor desempenho nos valores de MSE e RMSR, além de se comportar melhor em dados com alta dimensionalidade, que é o caso do nosso Dataframe. Dessa forma, mesmo normalizando os dados para aplicar o regressor K-NN vizinhos, escolher o valor dos vizinhos e atributos ou o uso de técnicas de otimização, consideramos o modelo da árvore de decisões mais efetivo nessa aplicação.\n"
   ]
  },
  {
   "cell_type": "markdown",
   "metadata": {},
   "source": [
    "## **🐲 Conclusão: Entrega da cabeça do dragão**"
   ]
  },
  {
   "cell_type": "markdown",
   "metadata": {},
   "source": [
    "Percebemos nesse trabalho que analisar dados exige pensar sobre o contexto geral das informações e, após isso, testar mais de um modelo, para conseguir comparar e entender se sua escolha foi a mais adequada. \n",
    "\n",
    "Então, a Árvore de Decisão se saiu melhor que o K-NN neste cenário, isso se deu provavelmente porque conseguiu capturar as interações e padrões nos dados de forma mais eficiente sem proporcionar muitos outliers.\n",
    "\n",
    "O K-NN pode não ter sido ideal para esse tipo de dados, seja devido à dimensionalidade ou à forma como as variáveis se relacionam. É possível que o K-NN tenha sofrido de problemas de escolha inadequada de 𝑘, enquanto a Árvore de Decisão se moldou melhor a estrutura dos dados que esse trabalho se dispõe a utilizar.\n",
    "\n",
    "Outra explicação plausível é a diferença de atributos utilizados, como destacado em seus respectivos cadernos, o modelo k-NN utilizou atributos que foram denominados como *derivados* ao longo dos cadernos e o modelo de árvore de decisão utilizou atributos que foram denominados *diretos*. Essa diferença pode ter influenciado nos resultados, já que os atributos derivados podem ter sido mais sensíveis a outliers e a dados desbalanceados, o que pode ter prejudicado a performance do modelo k-NN.\n",
    "\n",
    "Por fim, consideramos os resultados da árvore satisfatórios para o modelo preditivo e acreditamos que a escolha desse modelo, nesse contexto, se demonstra um objeto muito eficiente para o estudo de novos materiais para aplicação nas células solares. Sua capacidade de prever o *band gap* com baixo erro, pode ser um ponto de partida para a sínstese de novos materiais, que possam ser mais eficientes e baratos para a produção de energia solar."
   ]
  },
  {
   "cell_type": "markdown",
   "metadata": {},
   "source": [
    "## 📖Referencias\n"
   ]
  },
  {
   "cell_type": "markdown",
   "metadata": {},
   "source": [
    "**k Vizinhos mais próximos**.Disponível em: https://link.springer.com/chapter/10.1007/978-3-031-45630-5_10\n",
    "\n",
    "CASSAR, Daniel. **Aprendizado de máquina, k-NN e métricas**. 2024. Material de Aula.\n",
    "\n",
    "CASSAR, Daniel. **Árvores de decisão**. 2024. Material de aula.\n",
    "\n",
    "**Comparando Classificadores: Árvores de Decisão, K-NN e Naive Bayes**.Disponíveis em: https://www.insightlab.ufc.br/comparando-classificadores-arvores-de-decisao-k-nn-e-naive-bayes/\n",
    "\n",
    "**O Algorítmo k-Nearest Neighbors (kNN) em Machine Learning**. Disponível em: https://portaldatascience.com/o-algoritmo-k-nearest-neighbors-knn-em-machine-learning/\n",
    "\n",
    "**Árvore de decisão: entenda esse algoritmo de Machine Learning**. Disponível em: https://blog.somostera.com/data-science/arvores-de-decisao"
   ]
  },
  {
   "cell_type": "markdown",
   "metadata": {},
   "source": [
    "## 👣 **Passos anteriores**\n",
    "\n",
    "Este é o quarto e último de uma série de 4 notebooks que compõem o trabalho final da disciplina de Aprendizado de Máquina. Infelizmente não há próximo caderno. Para acompanhar o desenvolvimento do projeto, acesse os notebooks em nosso [git](https://github.com/CaioRuas24010/SepulcroDeDelfos/tree/main/A%20Batalha%20Contra%20Dragao):\n",
    "\n",
    "1. **[`introducao.ipynb`](https://github.com/CaioRuas24010/SepulcroDeDelfos/blob/main/A%20Batalha%20Contra%20Dragao/introducao.ipynb) - Baixando e organizando os dados**\n",
    "2. **[`modelo_dos_k-nn_vizinhos.ipynb`](https://github.com/CaioRuas24010/SepulcroDeDelfos/blob/main/A%20Batalha%20Contra%20Dragao/modelo_dos_k-nn_vizinhos.ipynb) - Estudando o modelo k-NN**\n",
    "3. **[`arvore_de_decisao.ipynb`](https://github.com/CaioRuas24010/SepulcroDeDelfos/blob/main/A%20Batalha%20Contra%20Dragao/arvore_de_decisao.ipynb) - Estudando o modelo Árvore de Decisão**\n",
    "4. **[`conclusao.ipynb`](https://github.com/CaioRuas24010/SepulcroDeDelfos/blob/main/A%20Batalha%20Contra%20Dragao/conclusao.ipynb) - Resultados e discussões finais** "
   ]
  },
  {
   "cell_type": "markdown",
   "metadata": {},
   "source": [
    "---"
   ]
  },
  {
   "cell_type": "markdown",
   "metadata": {},
   "source": [
    " # **<span style=\"font-family: 'Palatino Linotype', serif;\">Fim da nossa jornada</span>**\n",
    "\n",
    "*<span style=\"font-family: 'Angilla Tattoo'\"> <br> Passamos por muitos códigos e batalhas mas nosso gerreiros consegiram derrotar o mostro final! Glória pra todos os hérois do Sepulcro de Delfos que embarcaram nessa jornada!! <br> <br> ❤️ Mas a cima de tudo, obrigada a você ,leitor, que nos acompanhou em nossos passos, agradecemos á sua presença em nossas missões! <br> <br> Então grite conosco: Nossos algoritmos são oráculos, nossos dados são ossos ancestrais. <br> Sepulcro de Delfos </span>*"
   ]
  }
 ],
 "metadata": {
  "language_info": {
   "name": "python"
  }
 },
 "nbformat": 4,
 "nbformat_minor": 2
}
